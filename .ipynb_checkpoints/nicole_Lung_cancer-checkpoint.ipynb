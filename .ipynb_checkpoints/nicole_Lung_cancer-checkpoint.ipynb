{
 "cells": [
  {
   "cell_type": "code",
   "execution_count": 1,
   "metadata": {},
   "outputs": [],
   "source": [
    "%matplotlib inline\n",
    "import pandas as pd\n",
    "import matplotlib.pyplot as plt\n",
    "import numpy as np\n",
    "from sklearn import tree"
   ]
  },
  {
   "cell_type": "code",
   "execution_count": 2,
   "metadata": {},
   "outputs": [],
   "source": [
    "data = \"USCS_OverviewMap.csv\"\n",
    "data2= \"pollution_us_2010.csv\""
   ]
  },
  {
   "cell_type": "code",
   "execution_count": 21,
   "metadata": {},
   "outputs": [
    {
     "data": {
      "text/html": [
       "<div>\n",
       "<style scoped>\n",
       "    .dataframe tbody tr th:only-of-type {\n",
       "        vertical-align: middle;\n",
       "    }\n",
       "\n",
       "    .dataframe tbody tr th {\n",
       "        vertical-align: top;\n",
       "    }\n",
       "\n",
       "    .dataframe thead th {\n",
       "        text-align: right;\n",
       "    }\n",
       "</style>\n",
       "<table border=\"1\" class=\"dataframe\">\n",
       "  <thead>\n",
       "    <tr style=\"text-align: right;\">\n",
       "      <th></th>\n",
       "      <th>State</th>\n",
       "      <th>CancerType</th>\n",
       "      <th>Year</th>\n",
       "      <th>Sex</th>\n",
       "      <th>AgeAdjustedRate</th>\n",
       "      <th>CaseCount</th>\n",
       "      <th>Population</th>\n",
       "    </tr>\n",
       "  </thead>\n",
       "  <tbody>\n",
       "    <tr>\n",
       "      <th>0</th>\n",
       "      <td>Utah</td>\n",
       "      <td>Lung and Bronchus</td>\n",
       "      <td>2016</td>\n",
       "      <td>Male and Female</td>\n",
       "      <td>25.1</td>\n",
       "      <td>652</td>\n",
       "      <td>3044321</td>\n",
       "    </tr>\n",
       "    <tr>\n",
       "      <th>1</th>\n",
       "      <td>New Mexico</td>\n",
       "      <td>Lung and Bronchus</td>\n",
       "      <td>2016</td>\n",
       "      <td>Male and Female</td>\n",
       "      <td>36.4</td>\n",
       "      <td>950</td>\n",
       "      <td>2085432</td>\n",
       "    </tr>\n",
       "    <tr>\n",
       "      <th>2</th>\n",
       "      <td>Arizona</td>\n",
       "      <td>Lung and Bronchus</td>\n",
       "      <td>2016</td>\n",
       "      <td>Male and Female</td>\n",
       "      <td>44.3</td>\n",
       "      <td>3886</td>\n",
       "      <td>6908642</td>\n",
       "    </tr>\n",
       "    <tr>\n",
       "      <th>3</th>\n",
       "      <td>California</td>\n",
       "      <td>Lung and Bronchus</td>\n",
       "      <td>2016</td>\n",
       "      <td>Male and Female</td>\n",
       "      <td>38.2</td>\n",
       "      <td>16177</td>\n",
       "      <td>39296476</td>\n",
       "    </tr>\n",
       "    <tr>\n",
       "      <th>4</th>\n",
       "      <td>Colorado</td>\n",
       "      <td>Lung and Bronchus</td>\n",
       "      <td>2016</td>\n",
       "      <td>Male and Female</td>\n",
       "      <td>40.2</td>\n",
       "      <td>2346</td>\n",
       "      <td>5530105</td>\n",
       "    </tr>\n",
       "  </tbody>\n",
       "</table>\n",
       "</div>"
      ],
      "text/plain": [
       "        State         CancerType  Year              Sex  AgeAdjustedRate  \\\n",
       "0        Utah  Lung and Bronchus  2016  Male and Female             25.1   \n",
       "1  New Mexico  Lung and Bronchus  2016  Male and Female             36.4   \n",
       "2     Arizona  Lung and Bronchus  2016  Male and Female             44.3   \n",
       "3  California  Lung and Bronchus  2016  Male and Female             38.2   \n",
       "4    Colorado  Lung and Bronchus  2016  Male and Female             40.2   \n",
       "\n",
       "   CaseCount  Population  \n",
       "0        652     3044321  \n",
       "1        950     2085432  \n",
       "2       3886     6908642  \n",
       "3      16177    39296476  \n",
       "4       2346     5530105  "
      ]
     },
     "execution_count": 21,
     "metadata": {},
     "output_type": "execute_result"
    }
   ],
   "source": [
    "lung_cancer = pd.read_csv(data)\n",
    "\n",
    "pollution_data = pd.read_csv(data2)\n",
    "\n",
    "lung_df = lung_cancer.rename(columns={'Area': 'State'})\n",
    "lung_df.head()"
   ]
  },
  {
   "cell_type": "code",
   "execution_count": 27,
   "metadata": {},
   "outputs": [
    {
     "data": {
      "text/html": [
       "<div>\n",
       "<style scoped>\n",
       "    .dataframe tbody tr th:only-of-type {\n",
       "        vertical-align: middle;\n",
       "    }\n",
       "\n",
       "    .dataframe tbody tr th {\n",
       "        vertical-align: top;\n",
       "    }\n",
       "\n",
       "    .dataframe thead th {\n",
       "        text-align: right;\n",
       "    }\n",
       "</style>\n",
       "<table border=\"1\" class=\"dataframe\">\n",
       "  <thead>\n",
       "    <tr style=\"text-align: right;\">\n",
       "      <th></th>\n",
       "      <th></th>\n",
       "      <th>NO2 Mean</th>\n",
       "      <th>O3 Mean</th>\n",
       "      <th>SO2 Mean</th>\n",
       "      <th>CO Mean</th>\n",
       "    </tr>\n",
       "    <tr>\n",
       "      <th>County</th>\n",
       "      <th>State</th>\n",
       "      <th></th>\n",
       "      <th></th>\n",
       "      <th></th>\n",
       "      <th></th>\n",
       "    </tr>\n",
       "  </thead>\n",
       "  <tbody>\n",
       "    <tr>\n",
       "      <th>Ada</th>\n",
       "      <th>Idaho</th>\n",
       "      <td>9.397005</td>\n",
       "      <td>0.026446</td>\n",
       "      <td>0.323220</td>\n",
       "      <td>0.179643</td>\n",
       "    </tr>\n",
       "    <tr>\n",
       "      <th>Adair</th>\n",
       "      <th>Oklahoma</th>\n",
       "      <td>3.380287</td>\n",
       "      <td>0.033018</td>\n",
       "      <td>0.962575</td>\n",
       "      <td>0.161624</td>\n",
       "    </tr>\n",
       "    <tr>\n",
       "      <th>Adams</th>\n",
       "      <th>Colorado</th>\n",
       "      <td>16.171138</td>\n",
       "      <td>0.022955</td>\n",
       "      <td>1.028090</td>\n",
       "      <td>0.365696</td>\n",
       "    </tr>\n",
       "    <tr>\n",
       "      <th>Alameda</th>\n",
       "      <th>California</th>\n",
       "      <td>13.107570</td>\n",
       "      <td>0.018581</td>\n",
       "      <td>0.808043</td>\n",
       "      <td>0.313970</td>\n",
       "    </tr>\n",
       "    <tr>\n",
       "      <th>Aroostook</th>\n",
       "      <th>Maine</th>\n",
       "      <td>2.073074</td>\n",
       "      <td>0.028329</td>\n",
       "      <td>0.229897</td>\n",
       "      <td>0.159659</td>\n",
       "    </tr>\n",
       "  </tbody>\n",
       "</table>\n",
       "</div>"
      ],
      "text/plain": [
       "                       NO2 Mean   O3 Mean  SO2 Mean   CO Mean\n",
       "County    State                                              \n",
       "Ada       Idaho        9.397005  0.026446  0.323220  0.179643\n",
       "Adair     Oklahoma     3.380287  0.033018  0.962575  0.161624\n",
       "Adams     Colorado    16.171138  0.022955  1.028090  0.365696\n",
       "Alameda   California  13.107570  0.018581  0.808043  0.313970\n",
       "Aroostook Maine        2.073074  0.028329  0.229897  0.159659"
      ]
     },
     "execution_count": 27,
     "metadata": {},
     "output_type": "execute_result"
    }
   ],
   "source": [
    "pollution_clean = pollution_data[['State', 'County', 'NO2 Units', 'NO2 Mean', 'O3 Units', 'O3 Mean', 'SO2 Units', 'SO2 Mean', 'CO Units', 'CO Mean']]\n",
    "pollution_group = pollution_clean.groupby(['County', 'State'])\n",
    "pollution_summary = pollution_group.mean()\n",
    "pollution_summary.head()"
   ]
  },
  {
   "cell_type": "code",
   "execution_count": 36,
   "metadata": {},
   "outputs": [
    {
     "data": {
      "text/html": [
       "<div>\n",
       "<style scoped>\n",
       "    .dataframe tbody tr th:only-of-type {\n",
       "        vertical-align: middle;\n",
       "    }\n",
       "\n",
       "    .dataframe tbody tr th {\n",
       "        vertical-align: top;\n",
       "    }\n",
       "\n",
       "    .dataframe thead th {\n",
       "        text-align: right;\n",
       "    }\n",
       "</style>\n",
       "<table border=\"1\" class=\"dataframe\">\n",
       "  <thead>\n",
       "    <tr style=\"text-align: right;\">\n",
       "      <th></th>\n",
       "      <th>State</th>\n",
       "      <th>CancerType</th>\n",
       "      <th>Year</th>\n",
       "      <th>Sex</th>\n",
       "      <th>AgeAdjustedRate</th>\n",
       "      <th>CaseCount</th>\n",
       "      <th>Population</th>\n",
       "      <th>NO2 Mean</th>\n",
       "      <th>O3 Mean</th>\n",
       "      <th>SO2 Mean</th>\n",
       "      <th>CO Mean</th>\n",
       "    </tr>\n",
       "  </thead>\n",
       "  <tbody>\n",
       "    <tr>\n",
       "      <th>0</th>\n",
       "      <td>Arizona</td>\n",
       "      <td>Lung and Bronchus</td>\n",
       "      <td>2016</td>\n",
       "      <td>Male and Female</td>\n",
       "      <td>44.3</td>\n",
       "      <td>3886</td>\n",
       "      <td>6908642</td>\n",
       "      <td>17.923513</td>\n",
       "      <td>0.024922</td>\n",
       "      <td>1.355543</td>\n",
       "      <td>0.424427</td>\n",
       "    </tr>\n",
       "    <tr>\n",
       "      <th>1</th>\n",
       "      <td>Arizona</td>\n",
       "      <td>Lung and Bronchus</td>\n",
       "      <td>2016</td>\n",
       "      <td>Male and Female</td>\n",
       "      <td>44.3</td>\n",
       "      <td>3886</td>\n",
       "      <td>6908642</td>\n",
       "      <td>12.094548</td>\n",
       "      <td>0.027773</td>\n",
       "      <td>0.459444</td>\n",
       "      <td>0.252303</td>\n",
       "    </tr>\n",
       "    <tr>\n",
       "      <th>2</th>\n",
       "      <td>California</td>\n",
       "      <td>Lung and Bronchus</td>\n",
       "      <td>2016</td>\n",
       "      <td>Male and Female</td>\n",
       "      <td>38.2</td>\n",
       "      <td>16177</td>\n",
       "      <td>39296476</td>\n",
       "      <td>13.107570</td>\n",
       "      <td>0.018581</td>\n",
       "      <td>0.808043</td>\n",
       "      <td>0.313970</td>\n",
       "    </tr>\n",
       "    <tr>\n",
       "      <th>3</th>\n",
       "      <td>California</td>\n",
       "      <td>Lung and Bronchus</td>\n",
       "      <td>2016</td>\n",
       "      <td>Male and Female</td>\n",
       "      <td>38.2</td>\n",
       "      <td>16177</td>\n",
       "      <td>39296476</td>\n",
       "      <td>7.608833</td>\n",
       "      <td>0.023933</td>\n",
       "      <td>0.985014</td>\n",
       "      <td>0.313341</td>\n",
       "    </tr>\n",
       "    <tr>\n",
       "      <th>4</th>\n",
       "      <td>California</td>\n",
       "      <td>Lung and Bronchus</td>\n",
       "      <td>2016</td>\n",
       "      <td>Male and Female</td>\n",
       "      <td>38.2</td>\n",
       "      <td>16177</td>\n",
       "      <td>39296476</td>\n",
       "      <td>12.916267</td>\n",
       "      <td>0.028947</td>\n",
       "      <td>0.746760</td>\n",
       "      <td>0.277057</td>\n",
       "    </tr>\n",
       "  </tbody>\n",
       "</table>\n",
       "</div>"
      ],
      "text/plain": [
       "        State         CancerType  Year              Sex  AgeAdjustedRate  \\\n",
       "0     Arizona  Lung and Bronchus  2016  Male and Female             44.3   \n",
       "1     Arizona  Lung and Bronchus  2016  Male and Female             44.3   \n",
       "2  California  Lung and Bronchus  2016  Male and Female             38.2   \n",
       "3  California  Lung and Bronchus  2016  Male and Female             38.2   \n",
       "4  California  Lung and Bronchus  2016  Male and Female             38.2   \n",
       "\n",
       "   CaseCount  Population   NO2 Mean   O3 Mean  SO2 Mean   CO Mean  \n",
       "0       3886     6908642  17.923513  0.024922  1.355543  0.424427  \n",
       "1       3886     6908642  12.094548  0.027773  0.459444  0.252303  \n",
       "2      16177    39296476  13.107570  0.018581  0.808043  0.313970  \n",
       "3      16177    39296476   7.608833  0.023933  0.985014  0.313341  \n",
       "4      16177    39296476  12.916267  0.028947  0.746760  0.277057  "
      ]
     },
     "execution_count": 36,
     "metadata": {},
     "output_type": "execute_result"
    }
   ],
   "source": [
    "merge = pd.merge(lung_df, pollution_summary, how='inner', on='State')\n",
    "merge.head()"
   ]
  },
  {
   "cell_type": "code",
   "execution_count": 32,
   "metadata": {},
   "outputs": [
    {
     "name": "stdout",
     "output_type": "stream",
     "text": [
      "Shape:  (48, 1) (48, 1)\n"
     ]
    }
   ],
   "source": [
    "#assign data to X and y\n",
    "X = merge[\"NO2 Mean\"].values.reshape(-1, 1)\n",
    "y = merge[\"CaseCount\"].values.reshape(-1, 1)\n",
    "print(\"Shape: \", X.shape, y.shape)"
   ]
  },
  {
   "cell_type": "code",
   "execution_count": 33,
   "metadata": {},
   "outputs": [
    {
     "data": {
      "text/plain": [
       "Text(0, 0.5, 'Cancer Cases')"
      ]
     },
     "execution_count": 33,
     "metadata": {},
     "output_type": "execute_result"
    },
    {
     "data": {
      "image/png": "[encoded data removed]",
      "text/plain": [
       "<Figure size 432x288 with 1 Axes>"
      ]
     },
     "metadata": {
      "needs_background": "light"
     },
     "output_type": "display_data"
    }
   ],
   "source": [
    "#plot data to look for trends\n",
    "plt.scatter(X, y)\n",
    "plt.xlabel(\"NO2 Pollution\")\n",
    "plt.ylabel(\"Cancer Cases\")"
   ]
  },
  {
   "cell_type": "code",
   "execution_count": 34,
   "metadata": {},
   "outputs": [],
   "source": [
    "#split data into training and testing\n",
    "from sklearn.model_selection import train_test_split\n",
    "X_train, X_test, y_train, y_test = train_test_split(X, y, random_state=42)"
   ]
  },
  {
   "cell_type": "code",
   "execution_count": 35,
   "metadata": {},
   "outputs": [
    {
     "data": {
      "text/plain": [
       "LinearRegression(copy_X=True, fit_intercept=True, n_jobs=None,\n",
       "         normalize=False)"
      ]
     },
     "execution_count": 35,
     "metadata": {},
     "output_type": "execute_result"
    }
   ],
   "source": [
    "#create model & fit to data\n",
    "from sklearn.linear_model import LinearRegression\n",
    "model = LinearRegression()\n",
    "model.fit(X_train, y_train)"
   ]
  },
  {
   "cell_type": "code",
   "execution_count": 38,
   "metadata": {},
   "outputs": [
    {
     "data": {
      "text/plain": [
       "0.016395867560284327"
      ]
     },
     "execution_count": 38,
     "metadata": {},
     "output_type": "execute_result"
    }
   ],
   "source": [
    "from sklearn.metrics import mean_squared_error, r2_score\n",
    "predicted = model.predict(X_test)\n",
    "model.score(X_test, y_test)"
   ]
  },
  {
   "cell_type": "code",
   "execution_count": 39,
   "metadata": {},
   "outputs": [
    {
     "data": {
      "text/plain": [
       "<matplotlib.collections.PathCollection at 0x1f390d95c88>"
      ]
     },
     "execution_count": 39,
     "metadata": {},
     "output_type": "execute_result"
    },
    {
     "data": {
      "image/png": "[encoded data removed]",
      "text/plain": [
       "<Figure size 432x288 with 1 Axes>"
      ]
     },
     "metadata": {
      "needs_background": "light"
     },
     "output_type": "display_data"
    }
   ],
   "source": [
    "plt.scatter(X_test, y_test)"
   ]
  }
 ],
 "metadata": {
  "kernelspec": {
   "display_name": "Python 3",
   "language": "python",
   "name": "python3"
  },
  "language_info": {
   "codemirror_mode": {
    "name": "ipython",
    "version": 3
   },
   "file_extension": ".py",
   "mimetype": "text/x-python",
   "name": "python",
   "nbconvert_exporter": "python",
   "pygments_lexer": "ipython3",
   "version": "3.6.8"
  }
 },
 "nbformat": 4,
 "nbformat_minor": 2
}
