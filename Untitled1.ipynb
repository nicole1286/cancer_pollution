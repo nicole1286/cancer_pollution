{
 "cells": [
  {
   "cell_type": "code",
   "execution_count": 1,
   "metadata": {},
   "outputs": [],
   "source": [
    "import pandas as pd"
   ]
  },
  {
   "cell_type": "code",
   "execution_count": 6,
   "metadata": {},
   "outputs": [],
   "source": [
    "data = \"USCS_OverviewMap.csv\""
   ]
  },
  {
   "cell_type": "code",
   "execution_count": 8,
   "metadata": {},
   "outputs": [
    {
     "data": {
      "text/html": [
       "<div>\n",
       "<style scoped>\n",
       "    .dataframe tbody tr th:only-of-type {\n",
       "        vertical-align: middle;\n",
       "    }\n",
       "\n",
       "    .dataframe tbody tr th {\n",
       "        vertical-align: top;\n",
       "    }\n",
       "\n",
       "    .dataframe thead th {\n",
       "        text-align: right;\n",
       "    }\n",
       "</style>\n",
       "<table border=\"1\" class=\"dataframe\">\n",
       "  <thead>\n",
       "    <tr style=\"text-align: right;\">\n",
       "      <th></th>\n",
       "      <th>Area</th>\n",
       "      <th>CancerType</th>\n",
       "      <th>Year</th>\n",
       "      <th>Sex</th>\n",
       "      <th>AgeAdjustedRate</th>\n",
       "      <th>CaseCount</th>\n",
       "      <th>Population</th>\n",
       "    </tr>\n",
       "  </thead>\n",
       "  <tbody>\n",
       "    <tr>\n",
       "      <th>0</th>\n",
       "      <td>'Utah'</td>\n",
       "      <td>'Lung and Bronchus'</td>\n",
       "      <td>'2016'</td>\n",
       "      <td>'Male and Female'</td>\n",
       "      <td>'25.1'</td>\n",
       "      <td>'652'</td>\n",
       "      <td>'3044321'</td>\n",
       "    </tr>\n",
       "    <tr>\n",
       "      <th>1</th>\n",
       "      <td>'New Mexico'</td>\n",
       "      <td>'Lung and Bronchus'</td>\n",
       "      <td>'2016'</td>\n",
       "      <td>'Male and Female'</td>\n",
       "      <td>'36.4'</td>\n",
       "      <td>'950'</td>\n",
       "      <td>'2085432'</td>\n",
       "    </tr>\n",
       "    <tr>\n",
       "      <th>2</th>\n",
       "      <td>'Arizona'</td>\n",
       "      <td>'Lung and Bronchus'</td>\n",
       "      <td>'2016'</td>\n",
       "      <td>'Male and Female'</td>\n",
       "      <td>'44.3'</td>\n",
       "      <td>'3886'</td>\n",
       "      <td>'6908642'</td>\n",
       "    </tr>\n",
       "    <tr>\n",
       "      <th>3</th>\n",
       "      <td>'California'</td>\n",
       "      <td>'Lung and Bronchus'</td>\n",
       "      <td>'2016'</td>\n",
       "      <td>'Male and Female'</td>\n",
       "      <td>'38.2'</td>\n",
       "      <td>'16177'</td>\n",
       "      <td>'39296476'</td>\n",
       "    </tr>\n",
       "    <tr>\n",
       "      <th>4</th>\n",
       "      <td>'Colorado'</td>\n",
       "      <td>'Lung and Bronchus'</td>\n",
       "      <td>'2016'</td>\n",
       "      <td>'Male and Female'</td>\n",
       "      <td>'40.2'</td>\n",
       "      <td>'2346'</td>\n",
       "      <td>'5530105'</td>\n",
       "    </tr>\n",
       "  </tbody>\n",
       "</table>\n",
       "</div>"
      ],
      "text/plain": [
       "           Area           CancerType    Year                Sex  \\\n",
       "0        'Utah'  'Lung and Bronchus'  '2016'  'Male and Female'   \n",
       "1  'New Mexico'  'Lung and Bronchus'  '2016'  'Male and Female'   \n",
       "2     'Arizona'  'Lung and Bronchus'  '2016'  'Male and Female'   \n",
       "3  'California'  'Lung and Bronchus'  '2016'  'Male and Female'   \n",
       "4    'Colorado'  'Lung and Bronchus'  '2016'  'Male and Female'   \n",
       "\n",
       "  AgeAdjustedRate CaseCount  Population  \n",
       "0          '25.1'     '652'   '3044321'  \n",
       "1          '36.4'     '950'   '2085432'  \n",
       "2          '44.3'    '3886'   '6908642'  \n",
       "3          '38.2'   '16177'  '39296476'  \n",
       "4          '40.2'    '2346'   '5530105'  "
      ]
     },
     "execution_count": 8,
     "metadata": {},
     "output_type": "execute_result"
    }
   ],
   "source": [
    "lung_cancer = pd.read_csv(data)\n",
    "\n",
    "lung_cancer.head()"
   ]
  },
  {
   "cell_type": "code",
   "execution_count": null,
   "metadata": {},
   "outputs": [],
   "source": []
  }
 ],
 "metadata": {
  "kernelspec": {
   "display_name": "Python 3",
   "language": "python",
   "name": "python3"
  },
  "language_info": {
   "codemirror_mode": {
    "name": "ipython",
    "version": 3
   },
   "file_extension": ".py",
   "mimetype": "text/x-python",
   "name": "python",
   "nbconvert_exporter": "python",
   "pygments_lexer": "ipython3",
   "version": "3.6.8"
  }
 },
 "nbformat": 4,
 "nbformat_minor": 2
}
