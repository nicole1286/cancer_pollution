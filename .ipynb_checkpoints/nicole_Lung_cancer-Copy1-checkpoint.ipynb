{
 "cells": [
  {
   "cell_type": "code",
   "execution_count": 1,
   "metadata": {},
   "outputs": [],
   "source": [
    "#declare dependencies\n",
    "%matplotlib inline\n",
    "import pandas as pd\n",
    "import matplotlib.pyplot as plt\n",
    "import numpy as np\n",
    "from sklearn import tree"
   ]
  },
  {
   "cell_type": "code",
   "execution_count": 2,
   "metadata": {},
   "outputs": [],
   "source": [
    "#make csv's into variables\n",
    "data = \"USCS_OverviewMap.csv\"\n",
    "data2= \"pollution_us_2010.csv\""
   ]
  },
  {
   "cell_type": "code",
   "execution_count": 3,
   "metadata": {},
   "outputs": [
    {
     "data": {
      "text/html": [
       "<div>\n",
       "<style scoped>\n",
       "    .dataframe tbody tr th:only-of-type {\n",
       "        vertical-align: middle;\n",
       "    }\n",
       "\n",
       "    .dataframe tbody tr th {\n",
       "        vertical-align: top;\n",
       "    }\n",
       "\n",
       "    .dataframe thead th {\n",
       "        text-align: right;\n",
       "    }\n",
       "</style>\n",
       "<table border=\"1\" class=\"dataframe\">\n",
       "  <thead>\n",
       "    <tr style=\"text-align: right;\">\n",
       "      <th></th>\n",
       "      <th>State</th>\n",
       "      <th>CancerType</th>\n",
       "      <th>Year</th>\n",
       "      <th>Sex</th>\n",
       "      <th>AgeAdjustedRate</th>\n",
       "      <th>CaseCount</th>\n",
       "      <th>Population</th>\n",
       "    </tr>\n",
       "  </thead>\n",
       "  <tbody>\n",
       "    <tr>\n",
       "      <th>0</th>\n",
       "      <td>Utah</td>\n",
       "      <td>Lung and Bronchus</td>\n",
       "      <td>2016</td>\n",
       "      <td>Male and Female</td>\n",
       "      <td>25.1</td>\n",
       "      <td>652</td>\n",
       "      <td>3044321</td>\n",
       "    </tr>\n",
       "    <tr>\n",
       "      <th>1</th>\n",
       "      <td>New Mexico</td>\n",
       "      <td>Lung and Bronchus</td>\n",
       "      <td>2016</td>\n",
       "      <td>Male and Female</td>\n",
       "      <td>36.4</td>\n",
       "      <td>950</td>\n",
       "      <td>2085432</td>\n",
       "    </tr>\n",
       "    <tr>\n",
       "      <th>2</th>\n",
       "      <td>Arizona</td>\n",
       "      <td>Lung and Bronchus</td>\n",
       "      <td>2016</td>\n",
       "      <td>Male and Female</td>\n",
       "      <td>44.3</td>\n",
       "      <td>3886</td>\n",
       "      <td>6908642</td>\n",
       "    </tr>\n",
       "    <tr>\n",
       "      <th>3</th>\n",
       "      <td>California</td>\n",
       "      <td>Lung and Bronchus</td>\n",
       "      <td>2016</td>\n",
       "      <td>Male and Female</td>\n",
       "      <td>38.2</td>\n",
       "      <td>16177</td>\n",
       "      <td>39296476</td>\n",
       "    </tr>\n",
       "    <tr>\n",
       "      <th>4</th>\n",
       "      <td>Colorado</td>\n",
       "      <td>Lung and Bronchus</td>\n",
       "      <td>2016</td>\n",
       "      <td>Male and Female</td>\n",
       "      <td>40.2</td>\n",
       "      <td>2346</td>\n",
       "      <td>5530105</td>\n",
       "    </tr>\n",
       "  </tbody>\n",
       "</table>\n",
       "</div>"
      ],
      "text/plain": [
       "        State         CancerType  Year              Sex  AgeAdjustedRate  \\\n",
       "0        Utah  Lung and Bronchus  2016  Male and Female             25.1   \n",
       "1  New Mexico  Lung and Bronchus  2016  Male and Female             36.4   \n",
       "2     Arizona  Lung and Bronchus  2016  Male and Female             44.3   \n",
       "3  California  Lung and Bronchus  2016  Male and Female             38.2   \n",
       "4    Colorado  Lung and Bronchus  2016  Male and Female             40.2   \n",
       "\n",
       "   CaseCount  Population  \n",
       "0        652     3044321  \n",
       "1        950     2085432  \n",
       "2       3886     6908642  \n",
       "3      16177    39296476  \n",
       "4       2346     5530105  "
      ]
     },
     "execution_count": 3,
     "metadata": {},
     "output_type": "execute_result"
    }
   ],
   "source": [
    "#read csv's into pandas dataframes (extract)\n",
    "lung_cancer = pd.read_csv(data)\n",
    "pollution_data = pd.read_csv(data2)\n",
    "#rename column so df's match for merge\n",
    "lung_df = lung_cancer.rename(columns={'Area': 'State'})\n",
    "lung_df.head()"
   ]
  },
  {
   "cell_type": "code",
   "execution_count": 4,
   "metadata": {},
   "outputs": [
    {
     "data": {
      "text/html": [
       "<div>\n",
       "<style scoped>\n",
       "    .dataframe tbody tr th:only-of-type {\n",
       "        vertical-align: middle;\n",
       "    }\n",
       "\n",
       "    .dataframe tbody tr th {\n",
       "        vertical-align: top;\n",
       "    }\n",
       "\n",
       "    .dataframe thead th {\n",
       "        text-align: right;\n",
       "    }\n",
       "</style>\n",
       "<table border=\"1\" class=\"dataframe\">\n",
       "  <thead>\n",
       "    <tr style=\"text-align: right;\">\n",
       "      <th></th>\n",
       "      <th>NO2 Mean</th>\n",
       "      <th>O3 Mean</th>\n",
       "      <th>SO2 Mean</th>\n",
       "      <th>CO Mean</th>\n",
       "    </tr>\n",
       "    <tr>\n",
       "      <th>State</th>\n",
       "      <th></th>\n",
       "      <th></th>\n",
       "      <th></th>\n",
       "      <th></th>\n",
       "    </tr>\n",
       "  </thead>\n",
       "  <tbody>\n",
       "    <tr>\n",
       "      <th>Arizona</th>\n",
       "      <td>15.916712</td>\n",
       "      <td>0.025903</td>\n",
       "      <td>1.047033</td>\n",
       "      <td>0.365168</td>\n",
       "    </tr>\n",
       "    <tr>\n",
       "      <th>Arkansas</th>\n",
       "      <td>10.004749</td>\n",
       "      <td>0.027650</td>\n",
       "      <td>1.292494</td>\n",
       "      <td>0.454634</td>\n",
       "    </tr>\n",
       "    <tr>\n",
       "      <th>California</th>\n",
       "      <td>12.247269</td>\n",
       "      <td>0.025669</td>\n",
       "      <td>0.720866</td>\n",
       "      <td>0.344747</td>\n",
       "    </tr>\n",
       "    <tr>\n",
       "      <th>Colorado</th>\n",
       "      <td>16.171138</td>\n",
       "      <td>0.022955</td>\n",
       "      <td>1.028090</td>\n",
       "      <td>0.365696</td>\n",
       "    </tr>\n",
       "    <tr>\n",
       "      <th>Connecticut</th>\n",
       "      <td>9.739028</td>\n",
       "      <td>0.027474</td>\n",
       "      <td>0.949623</td>\n",
       "      <td>0.279957</td>\n",
       "    </tr>\n",
       "  </tbody>\n",
       "</table>\n",
       "</div>"
      ],
      "text/plain": [
       "              NO2 Mean   O3 Mean  SO2 Mean   CO Mean\n",
       "State                                               \n",
       "Arizona      15.916712  0.025903  1.047033  0.365168\n",
       "Arkansas     10.004749  0.027650  1.292494  0.454634\n",
       "California   12.247269  0.025669  0.720866  0.344747\n",
       "Colorado     16.171138  0.022955  1.028090  0.365696\n",
       "Connecticut   9.739028  0.027474  0.949623  0.279957"
      ]
     },
     "execution_count": 4,
     "metadata": {},
     "output_type": "execute_result"
    }
   ],
   "source": [
    "#transform/load data= pull needed col's and sort/avg\n",
    "pollution_clean = pollution_data[['State', 'County', 'NO2 Units', 'NO2 Mean', 'O3 Units', 'O3 Mean', 'SO2 Units', 'SO2 Mean', 'CO Units', 'CO Mean']]\n",
    "pollution_group = pollution_clean.groupby(['State'])\n",
    "pollution_summary = pollution_group.mean()\n",
    "pollution_summary.head()"
   ]
  },
  {
   "cell_type": "code",
   "execution_count": 5,
   "metadata": {},
   "outputs": [
    {
     "data": {
      "text/html": [
       "<div>\n",
       "<style scoped>\n",
       "    .dataframe tbody tr th:only-of-type {\n",
       "        vertical-align: middle;\n",
       "    }\n",
       "\n",
       "    .dataframe tbody tr th {\n",
       "        vertical-align: top;\n",
       "    }\n",
       "\n",
       "    .dataframe thead th {\n",
       "        text-align: right;\n",
       "    }\n",
       "</style>\n",
       "<table border=\"1\" class=\"dataframe\">\n",
       "  <thead>\n",
       "    <tr style=\"text-align: right;\">\n",
       "      <th></th>\n",
       "      <th>State</th>\n",
       "      <th>CancerType</th>\n",
       "      <th>Year</th>\n",
       "      <th>Sex</th>\n",
       "      <th>AgeAdjustedRate</th>\n",
       "      <th>CaseCount</th>\n",
       "      <th>Population</th>\n",
       "      <th>NO2 Mean</th>\n",
       "      <th>O3 Mean</th>\n",
       "      <th>SO2 Mean</th>\n",
       "      <th>CO Mean</th>\n",
       "    </tr>\n",
       "  </thead>\n",
       "  <tbody>\n",
       "    <tr>\n",
       "      <th>0</th>\n",
       "      <td>Arizona</td>\n",
       "      <td>Lung and Bronchus</td>\n",
       "      <td>2016</td>\n",
       "      <td>Male and Female</td>\n",
       "      <td>44.3</td>\n",
       "      <td>3886</td>\n",
       "      <td>6908642</td>\n",
       "      <td>15.916712</td>\n",
       "      <td>0.025903</td>\n",
       "      <td>1.047033</td>\n",
       "      <td>0.365168</td>\n",
       "    </tr>\n",
       "    <tr>\n",
       "      <th>1</th>\n",
       "      <td>California</td>\n",
       "      <td>Lung and Bronchus</td>\n",
       "      <td>2016</td>\n",
       "      <td>Male and Female</td>\n",
       "      <td>38.2</td>\n",
       "      <td>16177</td>\n",
       "      <td>39296476</td>\n",
       "      <td>12.247269</td>\n",
       "      <td>0.025669</td>\n",
       "      <td>0.720866</td>\n",
       "      <td>0.344747</td>\n",
       "    </tr>\n",
       "    <tr>\n",
       "      <th>2</th>\n",
       "      <td>Colorado</td>\n",
       "      <td>Lung and Bronchus</td>\n",
       "      <td>2016</td>\n",
       "      <td>Male and Female</td>\n",
       "      <td>40.2</td>\n",
       "      <td>2346</td>\n",
       "      <td>5530105</td>\n",
       "      <td>16.171138</td>\n",
       "      <td>0.022955</td>\n",
       "      <td>1.028090</td>\n",
       "      <td>0.365696</td>\n",
       "    </tr>\n",
       "    <tr>\n",
       "      <th>3</th>\n",
       "      <td>Idaho</td>\n",
       "      <td>Lung and Bronchus</td>\n",
       "      <td>2016</td>\n",
       "      <td>Male and Female</td>\n",
       "      <td>47.8</td>\n",
       "      <td>920</td>\n",
       "      <td>1680026</td>\n",
       "      <td>9.397005</td>\n",
       "      <td>0.026446</td>\n",
       "      <td>0.323220</td>\n",
       "      <td>0.179643</td>\n",
       "    </tr>\n",
       "    <tr>\n",
       "      <th>4</th>\n",
       "      <td>Nevada</td>\n",
       "      <td>Lung and Bronchus</td>\n",
       "      <td>2016</td>\n",
       "      <td>Male and Female</td>\n",
       "      <td>50.5</td>\n",
       "      <td>1724</td>\n",
       "      <td>2939254</td>\n",
       "      <td>22.342167</td>\n",
       "      <td>0.018229</td>\n",
       "      <td>0.430436</td>\n",
       "      <td>0.289673</td>\n",
       "    </tr>\n",
       "  </tbody>\n",
       "</table>\n",
       "</div>"
      ],
      "text/plain": [
       "        State         CancerType  Year              Sex  AgeAdjustedRate  \\\n",
       "0     Arizona  Lung and Bronchus  2016  Male and Female             44.3   \n",
       "1  California  Lung and Bronchus  2016  Male and Female             38.2   \n",
       "2    Colorado  Lung and Bronchus  2016  Male and Female             40.2   \n",
       "3       Idaho  Lung and Bronchus  2016  Male and Female             47.8   \n",
       "4      Nevada  Lung and Bronchus  2016  Male and Female             50.5   \n",
       "\n",
       "   CaseCount  Population   NO2 Mean   O3 Mean  SO2 Mean   CO Mean  \n",
       "0       3886     6908642  15.916712  0.025903  1.047033  0.365168  \n",
       "1      16177    39296476  12.247269  0.025669  0.720866  0.344747  \n",
       "2       2346     5530105  16.171138  0.022955  1.028090  0.365696  \n",
       "3        920     1680026   9.397005  0.026446  0.323220  0.179643  \n",
       "4       1724     2939254  22.342167  0.018229  0.430436  0.289673  "
      ]
     },
     "execution_count": 5,
     "metadata": {},
     "output_type": "execute_result"
    }
   ],
   "source": [
    "#merge 2 df's to get data ready for machine learning\n",
    "merge = pd.merge(lung_df, pollution_summary, how='inner', on='State')\n",
    "merge.head()"
   ]
  },
  {
   "cell_type": "code",
   "execution_count": 6,
   "metadata": {},
   "outputs": [],
   "source": [
    "#assign variables X (data) and y (target)\n",
    "X = merge[[\"CO Mean\", \"NO2 Mean\", \"O3 Mean\", \"SO2 Mean\", \"Population\"]]\n",
    "y = merge[\"CaseCount\"].values.reshape(-1, 1)"
   ]
  },
  {
   "cell_type": "code",
   "execution_count": 7,
   "metadata": {},
   "outputs": [],
   "source": [
    "#split data into training/testing\n",
    "from sklearn.model_selection import train_test_split\n",
    "X_train, X_test, y_train, y_test = train_test_split(X, y, random_state=42)"
   ]
  },
  {
   "cell_type": "code",
   "execution_count": 8,
   "metadata": {},
   "outputs": [
    {
     "name": "stderr",
     "output_type": "stream",
     "text": [
      "C:\\Users\\Nicole\\Anaconda3\\envs\\PythonData\\lib\\site-packages\\sklearn\\preprocessing\\data.py:645: DataConversionWarning: Data with input dtype int64, float64 were all converted to float64 by StandardScaler.\n",
      "  return self.partial_fit(X, y)\n",
      "C:\\Users\\Nicole\\Anaconda3\\envs\\PythonData\\lib\\site-packages\\sklearn\\utils\\validation.py:595: DataConversionWarning: Data with input dtype int64 was converted to float64 by StandardScaler.\n",
      "  warnings.warn(msg, DataConversionWarning)\n",
      "C:\\Users\\Nicole\\Anaconda3\\envs\\PythonData\\lib\\site-packages\\ipykernel_launcher.py:8: DataConversionWarning: Data with input dtype int64, float64 were all converted to float64 by StandardScaler.\n",
      "  \n",
      "C:\\Users\\Nicole\\Anaconda3\\envs\\PythonData\\lib\\site-packages\\ipykernel_launcher.py:9: DataConversionWarning: Data with input dtype int64, float64 were all converted to float64 by StandardScaler.\n",
      "  if __name__ == '__main__':\n",
      "C:\\Users\\Nicole\\Anaconda3\\envs\\PythonData\\lib\\site-packages\\sklearn\\utils\\validation.py:595: DataConversionWarning: Data with input dtype int64 was converted to float64 by StandardScaler.\n",
      "  warnings.warn(msg, DataConversionWarning)\n",
      "C:\\Users\\Nicole\\Anaconda3\\envs\\PythonData\\lib\\site-packages\\sklearn\\utils\\validation.py:595: DataConversionWarning: Data with input dtype int64 was converted to float64 by StandardScaler.\n",
      "  warnings.warn(msg, DataConversionWarning)\n"
     ]
    },
    {
     "data": {
      "text/plain": [
       "LinearRegression(copy_X=True, fit_intercept=True, n_jobs=None,\n",
       "         normalize=False)"
      ]
     },
     "execution_count": 8,
     "metadata": {},
     "output_type": "execute_result"
    }
   ],
   "source": [
    "#import machine learning libraries\n",
    "from sklearn.linear_model import LinearRegression\n",
    "from sklearn.preprocessing import StandardScaler\n",
    "#create scaler models and fit data\n",
    "X_scaler = StandardScaler().fit(X_train)\n",
    "y_scaler = StandardScaler().fit(y_train)\n",
    "#transform train/test data using scalers\n",
    "X_train_scaled = X_scaler.transform(X_train)\n",
    "X_test_scaled = X_scaler.transform(X_test)\n",
    "y_train_scaled = y_scaler.transform(y_train)\n",
    "y_test_scaled = y_scaler.transform(y_test)\n",
    "#create linearRegress model and fit to scaled data\n",
    "model = LinearRegression()\n",
    "model.fit(X_train_scaled, y_train_scaled)"
   ]
  },
  {
   "cell_type": "code",
   "execution_count": 14,
   "metadata": {},
   "outputs": [
    {
     "data": {
      "image/png": "[encoded data removed]",
      "text/plain": [
       "<Figure size 432x288 with 1 Axes>"
      ]
     },
     "metadata": {
      "needs_background": "light"
     },
     "output_type": "display_data"
    }
   ],
   "source": [
    "#Make predictions with X_test_scaled data\n",
    "predictions = model.predict(X_test_scaled)\n",
    "#fit the train data to our model\n",
    "model.fit(X_train_scaled, y_train_scaled)\n",
    "#plot the train vs test data for comparison of residuals\n",
    "plt.scatter(model.predict(X_train_scaled), model.predict(X_train_scaled) - y_train_scaled, c=\"green\", label=\"Train Data\")\n",
    "plt.scatter(model.predict(X_test_scaled), model.predict(X_test_scaled) - y_test_scaled, c=\"yellow\", label=\"Test Data\")\n",
    "plt.legend()\n",
    "plt.hlines(y=0, xmin=X_train_scaled.min(), xmax=X_train_scaled.max())\n",
    "plt.title(\"Residual Plot\")\n",
    "plt.savefig(\"./images/residual_plot\")"
   ]
  },
  {
   "cell_type": "code",
   "execution_count": 10,
   "metadata": {},
   "outputs": [
    {
     "data": {
      "image/png": "[encoded data removed]",
      "text/plain": [
       "<Figure size 432x288 with 1 Axes>"
      ]
     },
     "metadata": {
      "needs_background": "light"
     },
     "output_type": "display_data"
    }
   ],
   "source": [
    "#assign X/y & plot data to look for trends\n",
    "X = merge[\"NO2 Mean\"]\n",
    "y = merge[\"CaseCount\"]\n",
    "plt.scatter(X, y)\n",
    "plt.xlabel(\"NO2 Pollution\")\n",
    "plt.ylabel(\"Cancer Cases\")\n",
    "plt.savefig(\"./images/NO2_pollution\")"
   ]
  },
  {
   "cell_type": "code",
   "execution_count": 11,
   "metadata": {},
   "outputs": [
    {
     "data": {
      "image/png": "[encoded data removed]",
      "text/plain": [
       "<Figure size 432x288 with 1 Axes>"
      ]
     },
     "metadata": {
      "needs_background": "light"
     },
     "output_type": "display_data"
    }
   ],
   "source": [
    "#assign X y data & plot for trends\n",
    "X = merge[\"O3 Mean\"].values.reshape(-1, 1)\n",
    "y = merge[\"CaseCount\"].values.reshape(-1, 1)\n",
    "plt.scatter(X, y)\n",
    "plt.xlabel(\"O3 Pollution\")\n",
    "plt.ylabel(\"Cancer Cases\")\n",
    "plt.savefig(\"./images/O3_scatter\")"
   ]
  },
  {
   "cell_type": "code",
   "execution_count": null,
   "metadata": {},
   "outputs": [],
   "source": []
  },
  {
   "cell_type": "code",
   "execution_count": null,
   "metadata": {},
   "outputs": [],
   "source": []
  }
 ],
 "metadata": {
  "kernelspec": {
   "display_name": "Python 3",
   "language": "python",
   "name": "python3"
  },
  "language_info": {
   "codemirror_mode": {
    "name": "ipython",
    "version": 3
   },
   "file_extension": ".py",
   "mimetype": "text/x-python",
   "name": "python",
   "nbconvert_exporter": "python",
   "pygments_lexer": "ipython3",
   "version": "3.6.8"
  }
 },
 "nbformat": 4,
 "nbformat_minor": 2
}
